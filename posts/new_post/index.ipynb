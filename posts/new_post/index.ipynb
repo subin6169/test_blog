{
  "cells": [
    {
      "cell_type": "raw",
      "metadata": {},
      "source": [
        "---\n",
        "title: \"New post\"\n",
        "author: \"Subin\"\n",
        "date: \"2023-03-14\"\n",
        "categories: [news, code, analysis]\n",
        "image: \"damgom.png\"\n",
        "---"
      ],
      "id": "199cf0d3"
    },
    {
      "cell_type": "markdown",
      "metadata": {},
      "source": [
        "블로그에 자유롭게 글을 쓰는 것이 가능합니다.\n"
      ],
      "id": "d325f55d"
    },
    {
      "cell_type": "code",
      "metadata": {},
      "source": [
        "%matplotlib inline\n",
        "import matplotlib.pyplot as plt\n",
        "import numpy as np\n",
        "\n",
        "# 1000개의 랜덤한 점 생성\n",
        "x = np.random.rand(1000)\n",
        "y = np.random.rand(1000)\n",
        "\n",
        "# scatterplot 그리기\n",
        "plt.scatter(x, y, s=10, c='blue')\n",
        "\n",
        "# 축 라벨 지정\n",
        "plt.xlabel('X')\n",
        "plt.ylabel('Y')\n",
        "\n",
        "# 그래프 타이틀 지정\n",
        "plt.title('Scatter Plot')\n",
        "\n",
        "\n",
        "# 그래프 출력\n",
        "plt.show()"
      ],
      "id": "63f8aaa9",
      "execution_count": null,
      "outputs": []
    }
  ],
  "metadata": {
    "kernelspec": {
      "name": "python3",
      "language": "python",
      "display_name": "Python 3 (ipykernel)"
    }
  },
  "nbformat": 4,
  "nbformat_minor": 5
}